{
 "cells": [
  {
   "cell_type": "code",
   "execution_count": null,
   "id": "f7987360",
   "metadata": {},
   "outputs": [],
   "source": [
    "import pandas as pd\n",
    "import matplotlib.pyplot as plt\n",
    "import seaborn as sns\n",
    "from sklearn.model_selection import train_test_split , GridSearchCV, cross_val_score \n",
    "from sklearn.pipeline import Pipeline\n",
    "from sklearn.compose import ColumnTransformer\n",
    "from sklearn.preprocessing import StandardScaler, OneHotEncoder\n",
    "from sklearn.linear_model import LinearRegression\n",
    "from sklearn.neighbors import KNeighborsRegressor\n",
    "from xgboost import  XGBRegressor\n",
    "from sklearn.tree import DecisionTreeRegressor\n",
    "from sklearn.ensemble import GradientBoostingRegressor , RandomForestRegressor\n",
    "from sklearn.metrics import r2_score\n"
   ]
  },
  {
   "cell_type": "code",
   "execution_count": null,
   "id": "713e2abf",
   "metadata": {},
   "outputs": [
    {
     "data": {
      "text/html": [
       "<div>\n",
       "<style scoped>\n",
       "    .dataframe tbody tr th:only-of-type {\n",
       "        vertical-align: middle;\n",
       "    }\n",
       "\n",
       "    .dataframe tbody tr th {\n",
       "        vertical-align: top;\n",
       "    }\n",
       "\n",
       "    .dataframe thead th {\n",
       "        text-align: right;\n",
       "    }\n",
       "</style>\n",
       "<table border=\"1\" class=\"dataframe\">\n",
       "  <thead>\n",
       "    <tr style=\"text-align: right;\">\n",
       "      <th></th>\n",
       "      <th>ID</th>\n",
       "      <th>Price</th>\n",
       "      <th>Levy</th>\n",
       "      <th>Manufacturer</th>\n",
       "      <th>Model</th>\n",
       "      <th>Prod. year</th>\n",
       "      <th>Category</th>\n",
       "      <th>Leather interior</th>\n",
       "      <th>Fuel type</th>\n",
       "      <th>Engine volume</th>\n",
       "      <th>Mileage</th>\n",
       "      <th>Cylinders</th>\n",
       "      <th>Gear box type</th>\n",
       "      <th>Drive wheels</th>\n",
       "      <th>Doors</th>\n",
       "      <th>Wheel</th>\n",
       "      <th>Color</th>\n",
       "      <th>Airbags</th>\n",
       "    </tr>\n",
       "  </thead>\n",
       "  <tbody>\n",
       "    <tr>\n",
       "      <th>0</th>\n",
       "      <td>45654403</td>\n",
       "      <td>13328</td>\n",
       "      <td>1399</td>\n",
       "      <td>LEXUS</td>\n",
       "      <td>RX 450</td>\n",
       "      <td>2010</td>\n",
       "      <td>Jeep</td>\n",
       "      <td>Yes</td>\n",
       "      <td>Hybrid</td>\n",
       "      <td>3.5</td>\n",
       "      <td>186005 km</td>\n",
       "      <td>6.0</td>\n",
       "      <td>Automatic</td>\n",
       "      <td>4x4</td>\n",
       "      <td>04-May</td>\n",
       "      <td>Left wheel</td>\n",
       "      <td>Silver</td>\n",
       "      <td>12</td>\n",
       "    </tr>\n",
       "  </tbody>\n",
       "</table>\n",
       "</div>"
      ],
      "text/plain": [
       "         ID  Price  Levy Manufacturer   Model  Prod. year Category  \\\n",
       "0  45654403  13328  1399        LEXUS  RX 450        2010     Jeep   \n",
       "\n",
       "  Leather interior Fuel type Engine volume    Mileage  Cylinders  \\\n",
       "0              Yes    Hybrid           3.5  186005 km        6.0   \n",
       "\n",
       "  Gear box type Drive wheels   Doors       Wheel   Color  Airbags  \n",
       "0     Automatic          4x4  04-May  Left wheel  Silver       12  "
      ]
     },
     "execution_count": 2,
     "metadata": {},
     "output_type": "execute_result"
    }
   ],
   "source": [
    "car_data = pd.read_csv('car_price_prediction.csv')\n",
    "car_data.head(1)"
   ]
  },
  {
   "cell_type": "code",
   "execution_count": null,
   "id": "f55fda9e",
   "metadata": {},
   "outputs": [
    {
     "data": {
      "text/plain": [
       "(19237, 18)"
      ]
     },
     "execution_count": 3,
     "metadata": {},
     "output_type": "execute_result"
    }
   ],
   "source": [
    "car_data.shape"
   ]
  },
  {
   "cell_type": "code",
   "execution_count": null,
   "id": "510f6b61",
   "metadata": {},
   "outputs": [
    {
     "data": {
      "text/html": [
       "<div>\n",
       "<style scoped>\n",
       "    .dataframe tbody tr th:only-of-type {\n",
       "        vertical-align: middle;\n",
       "    }\n",
       "\n",
       "    .dataframe tbody tr th {\n",
       "        vertical-align: top;\n",
       "    }\n",
       "\n",
       "    .dataframe thead th {\n",
       "        text-align: right;\n",
       "    }\n",
       "</style>\n",
       "<table border=\"1\" class=\"dataframe\">\n",
       "  <thead>\n",
       "    <tr style=\"text-align: right;\">\n",
       "      <th></th>\n",
       "      <th>Price</th>\n",
       "      <th>Manufacturer</th>\n",
       "      <th>Prod. year</th>\n",
       "      <th>Category</th>\n",
       "      <th>Leather interior</th>\n",
       "      <th>Fuel type</th>\n",
       "      <th>Engine volume</th>\n",
       "      <th>Mileage</th>\n",
       "      <th>Gear box type</th>\n",
       "      <th>Drive wheels</th>\n",
       "    </tr>\n",
       "  </thead>\n",
       "  <tbody>\n",
       "    <tr>\n",
       "      <th>0</th>\n",
       "      <td>13328</td>\n",
       "      <td>LEXUS</td>\n",
       "      <td>2010</td>\n",
       "      <td>Jeep</td>\n",
       "      <td>Yes</td>\n",
       "      <td>Hybrid</td>\n",
       "      <td>3.5</td>\n",
       "      <td>186005 km</td>\n",
       "      <td>Automatic</td>\n",
       "      <td>4x4</td>\n",
       "    </tr>\n",
       "    <tr>\n",
       "      <th>1</th>\n",
       "      <td>16621</td>\n",
       "      <td>CHEVROLET</td>\n",
       "      <td>2011</td>\n",
       "      <td>Jeep</td>\n",
       "      <td>No</td>\n",
       "      <td>Petrol</td>\n",
       "      <td>3</td>\n",
       "      <td>192000 km</td>\n",
       "      <td>Tiptronic</td>\n",
       "      <td>4x4</td>\n",
       "    </tr>\n",
       "    <tr>\n",
       "      <th>2</th>\n",
       "      <td>8467</td>\n",
       "      <td>HONDA</td>\n",
       "      <td>2006</td>\n",
       "      <td>Hatchback</td>\n",
       "      <td>No</td>\n",
       "      <td>Petrol</td>\n",
       "      <td>1.3</td>\n",
       "      <td>200000 km</td>\n",
       "      <td>Variator</td>\n",
       "      <td>Front</td>\n",
       "    </tr>\n",
       "  </tbody>\n",
       "</table>\n",
       "</div>"
      ],
      "text/plain": [
       "   Price Manufacturer  Prod. year   Category Leather interior Fuel type  \\\n",
       "0  13328        LEXUS        2010       Jeep              Yes    Hybrid   \n",
       "1  16621    CHEVROLET        2011       Jeep               No    Petrol   \n",
       "2   8467        HONDA        2006  Hatchback               No    Petrol   \n",
       "\n",
       "  Engine volume    Mileage Gear box type Drive wheels  \n",
       "0           3.5  186005 km     Automatic          4x4  \n",
       "1             3  192000 km     Tiptronic          4x4  \n",
       "2           1.3  200000 km      Variator        Front  "
      ]
     },
     "execution_count": 4,
     "metadata": {},
     "output_type": "execute_result"
    }
   ],
   "source": [
    "df = car_data.drop(['ID', 'Levy', 'Cylinders', 'Doors', 'Wheel', 'Color', 'Model', 'Airbags' ], axis=1)\n",
    "df.head(3)"
   ]
  },
  {
   "cell_type": "code",
   "execution_count": null,
   "id": "ff944208",
   "metadata": {},
   "outputs": [
    {
     "name": "stdout",
     "output_type": "stream",
     "text": [
      "<class 'pandas.core.frame.DataFrame'>\n",
      "RangeIndex: 19237 entries, 0 to 19236\n",
      "Data columns (total 10 columns):\n",
      " #   Column            Non-Null Count  Dtype \n",
      "---  ------            --------------  ----- \n",
      " 0   Price             19237 non-null  int64 \n",
      " 1   Manufacturer      19237 non-null  object\n",
      " 2   Prod. year        19237 non-null  int64 \n",
      " 3   Category          19237 non-null  object\n",
      " 4   Leather interior  19237 non-null  object\n",
      " 5   Fuel type         19237 non-null  object\n",
      " 6   Engine volume     19237 non-null  object\n",
      " 7   Mileage           19237 non-null  object\n",
      " 8   Gear box type     19237 non-null  object\n",
      " 9   Drive wheels      19237 non-null  object\n",
      "dtypes: int64(2), object(8)\n",
      "memory usage: 1.5+ MB\n"
     ]
    }
   ],
   "source": [
    "df.info()"
   ]
  },
  {
   "cell_type": "code",
   "execution_count": null,
   "id": "eec227e5",
   "metadata": {},
   "outputs": [
    {
     "data": {
      "text/plain": [
       "(19237, 10)"
      ]
     },
     "execution_count": 6,
     "metadata": {},
     "output_type": "execute_result"
    }
   ],
   "source": [
    "df.shape"
   ]
  },
  {
   "cell_type": "code",
   "execution_count": null,
   "id": "d73c1ab2",
   "metadata": {},
   "outputs": [
    {
     "data": {
      "text/html": [
       "<div>\n",
       "<style scoped>\n",
       "    .dataframe tbody tr th:only-of-type {\n",
       "        vertical-align: middle;\n",
       "    }\n",
       "\n",
       "    .dataframe tbody tr th {\n",
       "        vertical-align: top;\n",
       "    }\n",
       "\n",
       "    .dataframe thead th {\n",
       "        text-align: right;\n",
       "    }\n",
       "</style>\n",
       "<table border=\"1\" class=\"dataframe\">\n",
       "  <thead>\n",
       "    <tr style=\"text-align: right;\">\n",
       "      <th></th>\n",
       "      <th>Price</th>\n",
       "      <th>Prod. year</th>\n",
       "    </tr>\n",
       "  </thead>\n",
       "  <tbody>\n",
       "    <tr>\n",
       "      <th>count</th>\n",
       "      <td>1.923700e+04</td>\n",
       "      <td>19237.000000</td>\n",
       "    </tr>\n",
       "    <tr>\n",
       "      <th>mean</th>\n",
       "      <td>1.855593e+04</td>\n",
       "      <td>2010.912824</td>\n",
       "    </tr>\n",
       "    <tr>\n",
       "      <th>std</th>\n",
       "      <td>1.905813e+05</td>\n",
       "      <td>5.668673</td>\n",
       "    </tr>\n",
       "    <tr>\n",
       "      <th>min</th>\n",
       "      <td>1.000000e+00</td>\n",
       "      <td>1939.000000</td>\n",
       "    </tr>\n",
       "    <tr>\n",
       "      <th>25%</th>\n",
       "      <td>5.331000e+03</td>\n",
       "      <td>2009.000000</td>\n",
       "    </tr>\n",
       "    <tr>\n",
       "      <th>50%</th>\n",
       "      <td>1.317200e+04</td>\n",
       "      <td>2012.000000</td>\n",
       "    </tr>\n",
       "    <tr>\n",
       "      <th>75%</th>\n",
       "      <td>2.207500e+04</td>\n",
       "      <td>2015.000000</td>\n",
       "    </tr>\n",
       "    <tr>\n",
       "      <th>max</th>\n",
       "      <td>2.630750e+07</td>\n",
       "      <td>2020.000000</td>\n",
       "    </tr>\n",
       "  </tbody>\n",
       "</table>\n",
       "</div>"
      ],
      "text/plain": [
       "              Price    Prod. year\n",
       "count  1.923700e+04  19237.000000\n",
       "mean   1.855593e+04   2010.912824\n",
       "std    1.905813e+05      5.668673\n",
       "min    1.000000e+00   1939.000000\n",
       "25%    5.331000e+03   2009.000000\n",
       "50%    1.317200e+04   2012.000000\n",
       "75%    2.207500e+04   2015.000000\n",
       "max    2.630750e+07   2020.000000"
      ]
     },
     "execution_count": 7,
     "metadata": {},
     "output_type": "execute_result"
    }
   ],
   "source": [
    "df.describe()"
   ]
  },
  {
   "cell_type": "code",
   "execution_count": null,
   "id": "3ff108aa",
   "metadata": {},
   "outputs": [],
   "source": [
    "df = df[(df['Price'] > 5000) & (df['Price'] < 200000)]"
   ]
  },
  {
   "cell_type": "code",
   "execution_count": null,
   "id": "389a18c1",
   "metadata": {},
   "outputs": [
    {
     "data": {
      "image/png": "[encoded data removed]",
      "text/plain": [
       "<Figure size 600x500 with 1 Axes>"
      ]
     },
     "metadata": {},
     "output_type": "display_data"
    }
   ],
   "source": [
    "plt.figure(figsize=(6,5))\n",
    "plt.hist(df['Price'], bins=30, color='skyblue', edgecolor='black')\n",
    "plt.title('Car Price Distribution After Cleaning')\n",
    "plt.xlabel('Price')\n",
    "plt.ylabel('Count')\n",
    "plt.show()\n"
   ]
  },
  {
   "cell_type": "code",
   "execution_count": null,
   "id": "6f5ac686",
   "metadata": {},
   "outputs": [
    {
     "data": {
      "text/plain": [
       "0        LEXUS\n",
       "1    CHEVROLET\n",
       "2        HONDA\n",
       "4        HONDA\n",
       "5      HYUNDAI\n",
       "Name: Manufacturer, dtype: object"
      ]
     },
     "execution_count": 10,
     "metadata": {},
     "output_type": "execute_result"
    }
   ],
   "source": [
    "df['Manufacturer'] = df['Manufacturer'].replace('სხვა', 'Others')\n",
    "counts = df['Manufacturer'].value_counts()\n",
    "rare_counts = counts[counts < 100].index\n",
    "df['Manufacturer'] = df['Manufacturer'].apply(lambda x : 'Others' if x in rare_counts else x )\n",
    "df['Manufacturer'].head()\n"
   ]
  },
  {
   "cell_type": "code",
   "execution_count": null,
   "id": "33cdf9d5",
   "metadata": {},
   "outputs": [
    {
     "data": {
      "text/plain": [
       "year\n",
       "1995.0     50\n",
       "1996.0     54\n",
       "1997.0     87\n",
       "1998.0    158\n",
       "1999.0    168\n",
       "Name: count, dtype: int64"
      ]
     },
     "execution_count": 11,
     "metadata": {},
     "output_type": "execute_result"
    }
   ],
   "source": [
    "df = df.rename(columns={'Prod. year': 'year'})\n",
    "value_count = df['year'].value_counts()\n",
    "rare_values = value_count[value_count < 50].index\n",
    "median_year = df['year'].median()\n",
    "df['year'] = df['year'].apply(lambda x : median_year if x in rare_values else x)\n",
    "df['year'].value_counts().sort_index().head()"
   ]
  },
  {
   "cell_type": "code",
   "execution_count": null,
   "id": "6113948d",
   "metadata": {},
   "outputs": [
    {
     "data": {
      "text/plain": [
       "Category\n",
       "Sedan          6380\n",
       "Jeep           4152\n",
       "Hatchback      2137\n",
       "Minivan         601\n",
       "Coupe           437\n",
       "Universal       340\n",
       "Microbus        282\n",
       "Goods wagon     192\n",
       "Others           77\n",
       "Name: count, dtype: int64"
      ]
     },
     "execution_count": 12,
     "metadata": {},
     "output_type": "execute_result"
    }
   ],
   "source": [
    "category_counts = df['Category'].value_counts()\n",
    "rare_cateory = category_counts[category_counts < 100].index\n",
    "df['Category'] = df['Category'].apply(lambda x : \"Others\" if x in rare_cateory else x)\n",
    "df['Category'].value_counts()"
   ]
  },
  {
   "cell_type": "code",
   "execution_count": null,
   "id": "568911cd",
   "metadata": {},
   "outputs": [
    {
     "data": {
      "text/plain": [
       "Leather interior\n",
       "1    10048\n",
       "0     4550\n",
       "Name: count, dtype: int64"
      ]
     },
     "execution_count": 13,
     "metadata": {},
     "output_type": "execute_result"
    }
   ],
   "source": [
    "df['Leather interior'] = df['Leather interior'].map({'Yes': 1, 'No': 0})\n",
    "df['Leather interior'].value_counts()"
   ]
  },
  {
   "cell_type": "code",
   "execution_count": null,
   "id": "0b64ae98",
   "metadata": {},
   "outputs": [
    {
     "data": {
      "text/plain": [
       "Fuel type\n",
       "Petrol            7622\n",
       "Diesel            3490\n",
       "Hybrid            2152\n",
       "LPG                869\n",
       "CNG                379\n",
       "Plug-in Hybrid      85\n",
       "Hydrogen             1\n",
       "Name: count, dtype: int64"
      ]
     },
     "execution_count": 14,
     "metadata": {},
     "output_type": "execute_result"
    }
   ],
   "source": [
    "df['Fuel type'].value_counts()"
   ]
  },
  {
   "cell_type": "code",
   "execution_count": null,
   "id": "8545fdde",
   "metadata": {},
   "outputs": [
    {
     "data": {
      "text/plain": [
       "Fuel type\n",
       "0    7622\n",
       "1    3490\n",
       "2    2152\n",
       "3     869\n",
       "4     379\n",
       "5      86\n",
       "Name: count, dtype: int64"
      ]
     },
     "execution_count": 15,
     "metadata": {},
     "output_type": "execute_result"
    }
   ],
   "source": [
    "fuel_type_count = df['Fuel type'].value_counts()\n",
    "rare_types = fuel_type_count[fuel_type_count < 100].index\n",
    "df['Fuel type'] = df['Fuel type'].apply(lambda x: 'Others' if x in rare_types else x)\n",
    "df['Fuel type'] = df['Fuel type'].map({'Petrol': 0, 'Diesel':1, 'Hybrid':2, 'LPG':3, 'CNG':4, 'Others':5})\n",
    "df['Fuel type'].value_counts()"
   ]
  },
  {
   "cell_type": "code",
   "execution_count": null,
   "id": "c067f0e2",
   "metadata": {},
   "outputs": [
    {
     "data": {
      "text/plain": [
       "Engine volume\n",
       "2            3267\n",
       "2.5          1642\n",
       "1.6          1224\n",
       "1.8          1199\n",
       "1.5          1098\n",
       "             ... \n",
       "5.4 Turbo       1\n",
       "0.3 Turbo       1\n",
       "0.9             1\n",
       "5.2             1\n",
       "5.8             1\n",
       "Name: count, Length: 99, dtype: int64"
      ]
     },
     "execution_count": 16,
     "metadata": {},
     "output_type": "execute_result"
    }
   ],
   "source": [
    "df['Engine volume'].value_counts()\n"
   ]
  },
  {
   "cell_type": "code",
   "execution_count": null,
   "id": "76cb1700",
   "metadata": {},
   "outputs": [
    {
     "data": {
      "text/plain": [
       "Engine volume\n",
       "1.5    5700\n",
       "2.0    3665\n",
       "2.5    1730\n",
       "1.8    1362\n",
       "1.6    1340\n",
       "3.0     801\n",
       "Name: count, dtype: int64"
      ]
     },
     "execution_count": 17,
     "metadata": {},
     "output_type": "execute_result"
    }
   ],
   "source": [
    "df['Engine volume'] = df['Engine volume'].apply(lambda x:x.split(' ')[0])\n",
    "df['Engine volume'] = df['Engine volume'].astype(float)\n",
    "engine_count = df['Engine volume'].value_counts()\n",
    "rare_engine = engine_count[engine_count <= 700].index\n",
    "df['Engine volume'] = df['Engine volume'].apply(lambda x : 1.5 if x in rare_engine else x)\n",
    "df['Engine volume'].value_counts()"
   ]
  },
  {
   "cell_type": "code",
   "execution_count": null,
   "id": "c5793676",
   "metadata": {},
   "outputs": [
    {
     "data": {
      "text/plain": [
       "Mileage(Km)\n",
       "200000.0    149\n",
       "150000.0    124\n",
       "160000.0    113\n",
       "180000.0     98\n",
       "170000.0     88\n",
       "           ... \n",
       "65691.0       1\n",
       "158130.0      1\n",
       "23430.0       1\n",
       "132700.0      1\n",
       "140607.0      1\n",
       "Name: count, Length: 6082, dtype: int64"
      ]
     },
     "execution_count": 18,
     "metadata": {},
     "output_type": "execute_result"
    }
   ],
   "source": [
    "df = df.rename(columns={'Mileage': 'Mileage(Km)'})\n",
    "df['Mileage(Km)'] = df['Mileage(Km)'].apply(lambda x: str(x).split(\" \")[0])\n",
    "df['Mileage(Km)'] = df['Mileage(Km)'].astype(float)\n",
    "df= df[df['Mileage(Km)'] != 0]\n",
    "df['Mileage(Km)'].value_counts()\n"
   ]
  },
  {
   "cell_type": "code",
   "execution_count": null,
   "id": "5f621f96",
   "metadata": {},
   "outputs": [
    {
     "data": {
      "text/plain": [
       "Gear Type\n",
       "1    9276\n",
       "2    2917\n",
       "0    1328\n",
       "3     684\n",
       "Name: count, dtype: int64"
      ]
     },
     "execution_count": 19,
     "metadata": {},
     "output_type": "execute_result"
    }
   ],
   "source": [
    "df = df.rename(columns={'Gear box type': 'Gear Type'})\n",
    "df['Gear Type'] = df['Gear Type'].map({'Manual':0, 'Automatic':1, 'Tiptronic':2, 'Variator':3})\n",
    "df['Gear Type'].value_counts()"
   ]
  },
  {
   "cell_type": "code",
   "execution_count": null,
   "id": "07c82f98",
   "metadata": {},
   "outputs": [
    {
     "data": {
      "text/plain": [
       "Drive wheels\n",
       "1    9918\n",
       "0    2621\n",
       "2    1666\n",
       "Name: count, dtype: int64"
      ]
     },
     "execution_count": 20,
     "metadata": {},
     "output_type": "execute_result"
    }
   ],
   "source": [
    "df['Drive wheels'] = df['Drive wheels'].map({'4x4':0, 'Front':1, 'Rear':2})\n",
    "df['Drive wheels'].value_counts()"
   ]
  },
  {
   "cell_type": "code",
   "execution_count": null,
   "id": "3244c65c",
   "metadata": {},
   "outputs": [
    {
     "data": {
      "text/html": [
       "<div>\n",
       "<style scoped>\n",
       "    .dataframe tbody tr th:only-of-type {\n",
       "        vertical-align: middle;\n",
       "    }\n",
       "\n",
       "    .dataframe tbody tr th {\n",
       "        vertical-align: top;\n",
       "    }\n",
       "\n",
       "    .dataframe thead th {\n",
       "        text-align: right;\n",
       "    }\n",
       "</style>\n",
       "<table border=\"1\" class=\"dataframe\">\n",
       "  <thead>\n",
       "    <tr style=\"text-align: right;\">\n",
       "      <th></th>\n",
       "      <th>Price</th>\n",
       "      <th>Manufacturer</th>\n",
       "      <th>year</th>\n",
       "      <th>Category</th>\n",
       "      <th>Leather interior</th>\n",
       "      <th>Fuel type</th>\n",
       "      <th>Engine volume</th>\n",
       "      <th>Mileage(Km)</th>\n",
       "      <th>Gear Type</th>\n",
       "      <th>Drive wheels</th>\n",
       "    </tr>\n",
       "  </thead>\n",
       "  <tbody>\n",
       "    <tr>\n",
       "      <th>0</th>\n",
       "      <td>13328</td>\n",
       "      <td>LEXUS</td>\n",
       "      <td>2010.0</td>\n",
       "      <td>Jeep</td>\n",
       "      <td>1</td>\n",
       "      <td>2</td>\n",
       "      <td>1.5</td>\n",
       "      <td>186005.0</td>\n",
       "      <td>1</td>\n",
       "      <td>0</td>\n",
       "    </tr>\n",
       "    <tr>\n",
       "      <th>1</th>\n",
       "      <td>16621</td>\n",
       "      <td>CHEVROLET</td>\n",
       "      <td>2011.0</td>\n",
       "      <td>Jeep</td>\n",
       "      <td>0</td>\n",
       "      <td>0</td>\n",
       "      <td>3.0</td>\n",
       "      <td>192000.0</td>\n",
       "      <td>2</td>\n",
       "      <td>0</td>\n",
       "    </tr>\n",
       "    <tr>\n",
       "      <th>2</th>\n",
       "      <td>8467</td>\n",
       "      <td>HONDA</td>\n",
       "      <td>2006.0</td>\n",
       "      <td>Hatchback</td>\n",
       "      <td>0</td>\n",
       "      <td>0</td>\n",
       "      <td>1.5</td>\n",
       "      <td>200000.0</td>\n",
       "      <td>3</td>\n",
       "      <td>1</td>\n",
       "    </tr>\n",
       "    <tr>\n",
       "      <th>4</th>\n",
       "      <td>11726</td>\n",
       "      <td>HONDA</td>\n",
       "      <td>2014.0</td>\n",
       "      <td>Hatchback</td>\n",
       "      <td>1</td>\n",
       "      <td>0</td>\n",
       "      <td>1.5</td>\n",
       "      <td>91901.0</td>\n",
       "      <td>1</td>\n",
       "      <td>1</td>\n",
       "    </tr>\n",
       "    <tr>\n",
       "      <th>5</th>\n",
       "      <td>39493</td>\n",
       "      <td>HYUNDAI</td>\n",
       "      <td>2016.0</td>\n",
       "      <td>Jeep</td>\n",
       "      <td>1</td>\n",
       "      <td>1</td>\n",
       "      <td>2.0</td>\n",
       "      <td>160931.0</td>\n",
       "      <td>1</td>\n",
       "      <td>1</td>\n",
       "    </tr>\n",
       "  </tbody>\n",
       "</table>\n",
       "</div>"
      ],
      "text/plain": [
       "   Price Manufacturer    year   Category  Leather interior  Fuel type  \\\n",
       "0  13328        LEXUS  2010.0       Jeep                 1          2   \n",
       "1  16621    CHEVROLET  2011.0       Jeep                 0          0   \n",
       "2   8467        HONDA  2006.0  Hatchback                 0          0   \n",
       "4  11726        HONDA  2014.0  Hatchback                 1          0   \n",
       "5  39493      HYUNDAI  2016.0       Jeep                 1          1   \n",
       "\n",
       "   Engine volume  Mileage(Km)  Gear Type  Drive wheels  \n",
       "0            1.5     186005.0          1             0  \n",
       "1            3.0     192000.0          2             0  \n",
       "2            1.5     200000.0          3             1  \n",
       "4            1.5      91901.0          1             1  \n",
       "5            2.0     160931.0          1             1  "
      ]
     },
     "execution_count": 21,
     "metadata": {},
     "output_type": "execute_result"
    }
   ],
   "source": [
    "df.head()"
   ]
  },
  {
   "cell_type": "code",
   "execution_count": null,
   "id": "b0640fb8",
   "metadata": {},
   "outputs": [
    {
     "name": "stdout",
     "output_type": "stream",
     "text": [
      "<class 'pandas.core.frame.DataFrame'>\n",
      "Index: 14205 entries, 0 to 19235\n",
      "Data columns (total 10 columns):\n",
      " #   Column            Non-Null Count  Dtype  \n",
      "---  ------            --------------  -----  \n",
      " 0   Price             14205 non-null  int64  \n",
      " 1   Manufacturer      14205 non-null  object \n",
      " 2   year              14205 non-null  float64\n",
      " 3   Category          14205 non-null  object \n",
      " 4   Leather interior  14205 non-null  int64  \n",
      " 5   Fuel type         14205 non-null  int64  \n",
      " 6   Engine volume     14205 non-null  float64\n",
      " 7   Mileage(Km)       14205 non-null  float64\n",
      " 8   Gear Type         14205 non-null  int64  \n",
      " 9   Drive wheels      14205 non-null  int64  \n",
      "dtypes: float64(3), int64(5), object(2)\n",
      "memory usage: 1.2+ MB\n"
     ]
    }
   ],
   "source": [
    "df.info()"
   ]
  },
  {
   "cell_type": "code",
   "execution_count": null,
   "id": "f1e0dbd0",
   "metadata": {},
   "outputs": [
    {
     "data": {
      "text/html": [
       "<div>\n",
       "<style scoped>\n",
       "    .dataframe tbody tr th:only-of-type {\n",
       "        vertical-align: middle;\n",
       "    }\n",
       "\n",
       "    .dataframe tbody tr th {\n",
       "        vertical-align: top;\n",
       "    }\n",
       "\n",
       "    .dataframe thead th {\n",
       "        text-align: right;\n",
       "    }\n",
       "</style>\n",
       "<table border=\"1\" class=\"dataframe\">\n",
       "  <thead>\n",
       "    <tr style=\"text-align: right;\">\n",
       "      <th></th>\n",
       "      <th>Price</th>\n",
       "      <th>year</th>\n",
       "      <th>Leather interior</th>\n",
       "      <th>Fuel type</th>\n",
       "      <th>Engine volume</th>\n",
       "      <th>Mileage(Km)</th>\n",
       "      <th>Gear Type</th>\n",
       "      <th>Drive wheels</th>\n",
       "    </tr>\n",
       "  </thead>\n",
       "  <tbody>\n",
       "    <tr>\n",
       "      <th>count</th>\n",
       "      <td>14205.00000</td>\n",
       "      <td>14205.000000</td>\n",
       "      <td>14205.000000</td>\n",
       "      <td>14205.000000</td>\n",
       "      <td>14205.000000</td>\n",
       "      <td>1.420500e+04</td>\n",
       "      <td>14205.000000</td>\n",
       "      <td>14205.000000</td>\n",
       "    </tr>\n",
       "    <tr>\n",
       "      <th>mean</th>\n",
       "      <td>22073.92559</td>\n",
       "      <td>2011.211616</td>\n",
       "      <td>0.694544</td>\n",
       "      <td>0.841112</td>\n",
       "      <td>1.864414</td>\n",
       "      <td>1.147185e+06</td>\n",
       "      <td>1.208166</td>\n",
       "      <td>0.932770</td>\n",
       "    </tr>\n",
       "    <tr>\n",
       "      <th>std</th>\n",
       "      <td>17267.15598</td>\n",
       "      <td>4.872566</td>\n",
       "      <td>0.460616</td>\n",
       "      <td>1.093631</td>\n",
       "      <td>0.425095</td>\n",
       "      <td>4.287411e+07</td>\n",
       "      <td>0.669436</td>\n",
       "      <td>0.545249</td>\n",
       "    </tr>\n",
       "    <tr>\n",
       "      <th>min</th>\n",
       "      <td>5015.00000</td>\n",
       "      <td>1995.000000</td>\n",
       "      <td>0.000000</td>\n",
       "      <td>0.000000</td>\n",
       "      <td>1.500000</td>\n",
       "      <td>1.300000e+01</td>\n",
       "      <td>0.000000</td>\n",
       "      <td>0.000000</td>\n",
       "    </tr>\n",
       "    <tr>\n",
       "      <th>25%</th>\n",
       "      <td>11000.00000</td>\n",
       "      <td>2009.000000</td>\n",
       "      <td>0.000000</td>\n",
       "      <td>0.000000</td>\n",
       "      <td>1.500000</td>\n",
       "      <td>7.260900e+04</td>\n",
       "      <td>1.000000</td>\n",
       "      <td>1.000000</td>\n",
       "    </tr>\n",
       "    <tr>\n",
       "      <th>50%</th>\n",
       "      <td>17158.00000</td>\n",
       "      <td>2012.000000</td>\n",
       "      <td>1.000000</td>\n",
       "      <td>0.000000</td>\n",
       "      <td>1.800000</td>\n",
       "      <td>1.233330e+05</td>\n",
       "      <td>1.000000</td>\n",
       "      <td>1.000000</td>\n",
       "    </tr>\n",
       "    <tr>\n",
       "      <th>75%</th>\n",
       "      <td>26657.00000</td>\n",
       "      <td>2015.000000</td>\n",
       "      <td>1.000000</td>\n",
       "      <td>1.000000</td>\n",
       "      <td>2.000000</td>\n",
       "      <td>1.800030e+05</td>\n",
       "      <td>2.000000</td>\n",
       "      <td>1.000000</td>\n",
       "    </tr>\n",
       "    <tr>\n",
       "      <th>max</th>\n",
       "      <td>194438.00000</td>\n",
       "      <td>2019.000000</td>\n",
       "      <td>1.000000</td>\n",
       "      <td>5.000000</td>\n",
       "      <td>3.000000</td>\n",
       "      <td>2.147484e+09</td>\n",
       "      <td>3.000000</td>\n",
       "      <td>2.000000</td>\n",
       "    </tr>\n",
       "  </tbody>\n",
       "</table>\n",
       "</div>"
      ],
      "text/plain": [
       "              Price          year  Leather interior     Fuel type  \\\n",
       "count   14205.00000  14205.000000      14205.000000  14205.000000   \n",
       "mean    22073.92559   2011.211616          0.694544      0.841112   \n",
       "std     17267.15598      4.872566          0.460616      1.093631   \n",
       "min      5015.00000   1995.000000          0.000000      0.000000   \n",
       "25%     11000.00000   2009.000000          0.000000      0.000000   \n",
       "50%     17158.00000   2012.000000          1.000000      0.000000   \n",
       "75%     26657.00000   2015.000000          1.000000      1.000000   \n",
       "max    194438.00000   2019.000000          1.000000      5.000000   \n",
       "\n",
       "       Engine volume   Mileage(Km)     Gear Type  Drive wheels  \n",
       "count   14205.000000  1.420500e+04  14205.000000  14205.000000  \n",
       "mean        1.864414  1.147185e+06      1.208166      0.932770  \n",
       "std         0.425095  4.287411e+07      0.669436      0.545249  \n",
       "min         1.500000  1.300000e+01      0.000000      0.000000  \n",
       "25%         1.500000  7.260900e+04      1.000000      1.000000  \n",
       "50%         1.800000  1.233330e+05      1.000000      1.000000  \n",
       "75%         2.000000  1.800030e+05      2.000000      1.000000  \n",
       "max         3.000000  2.147484e+09      3.000000      2.000000  "
      ]
     },
     "execution_count": 23,
     "metadata": {},
     "output_type": "execute_result"
    }
   ],
   "source": [
    "df.describe()"
   ]
  },
  {
   "cell_type": "code",
   "execution_count": null,
   "id": "9dc0ea71",
   "metadata": {},
   "outputs": [
    {
     "data": {
      "text/plain": [
       "(14205, 10)"
      ]
     },
     "execution_count": 24,
     "metadata": {},
     "output_type": "execute_result"
    }
   ],
   "source": [
    "df.shape"
   ]
  },
  {
   "cell_type": "code",
   "execution_count": null,
   "id": "9e8f6fb4",
   "metadata": {},
   "outputs": [],
   "source": [
    "X = df.drop('Price', axis=1)\n",
    "y = df['Price']\n",
    "X_train, X_test, y_train, y_test = train_test_split(X, y, test_size=0.2, random_state=42)"
   ]
  },
  {
   "cell_type": "code",
   "execution_count": null,
   "id": "e2e25556",
   "metadata": {},
   "outputs": [
    {
     "name": "stdout",
     "output_type": "stream",
     "text": [
      "Numerical: ['year', 'Leather interior', 'Fuel type', 'Engine volume', 'Mileage(Km)', 'Gear Type', 'Drive wheels']\n",
      "Categorical: ['Manufacturer', 'Category']\n"
     ]
    }
   ],
   "source": [
    "numerical_features = [col for col in X.columns if X[col].dtypes in ['int64', 'float64']]\n",
    "categorical_features = [col for col in X.columns if X[col].dtypes in ['object', 'category']]\n",
    "\n",
    "print(\"Numerical:\", numerical_features)\n",
    "print(\"Categorical:\", categorical_features)"
   ]
  },
  {
   "cell_type": "code",
   "execution_count": null,
   "id": "edb7b464",
   "metadata": {},
   "outputs": [],
   "source": [
    "preprocessing = ColumnTransformer([\n",
    "    ('num' , StandardScaler() , numerical_features),\n",
    "    ('cate' , OneHotEncoder() , categorical_features)\n",
    "])"
   ]
  },
  {
   "cell_type": "code",
   "execution_count": null,
   "id": "adf6a475",
   "metadata": {},
   "outputs": [],
   "source": [
    "models = {\n",
    "    'LinearRegression' : LinearRegression(),\n",
    "    'DecisionTreeRegressor' : DecisionTreeRegressor(),\n",
    "    'KNeighborsRegressor' : KNeighborsRegressor(),\n",
    "    'GradientBoostingRegressor' : GradientBoostingRegressor(),\n",
    "    'XGBRegressor' : XGBRegressor(),\n",
    "    'RandomForestRegressor' : RandomForestRegressor()\n",
    "}"
   ]
  },
  {
   "cell_type": "code",
   "execution_count": null,
   "id": "116cadac",
   "metadata": {},
   "outputs": [
    {
     "name": "stdout",
     "output_type": "stream",
     "text": [
      "LinearRegression: R² score = 0.3542\n",
      "DecisionTreeRegressor: R² score = 0.3135\n",
      "KNeighborsRegressor: R² score = 0.5565\n",
      "GradientBoostingRegressor: R² score = 0.5208\n",
      "XGBRegressor: R² score = 0.6017\n",
      "RandomForestRegressor: R² score = 0.6090\n"
     ]
    }
   ],
   "source": [
    "for name, model in models.items():\n",
    "    pipeline = Pipeline([\n",
    "        ('preprocessing' , preprocessing),\n",
    "        ('model' , model)\n",
    "    ])\n",
    "    scores = cross_val_score(pipeline, X_train, y_train, cv=3, n_jobs=-1, scoring='r2')  \n",
    "    mean_r2 = scores.mean()\n",
    "    print(f\"{name}: R² score = {mean_r2:.4f}\")\n"
   ]
  },
  {
   "cell_type": "code",
   "execution_count": null,
   "id": "331af704",
   "metadata": {},
   "outputs": [],
   "source": [
    "\n",
    "\n",
    "# Hyperparameter grid\n",
    "param_grid = {\n",
    "    'model__n_estimators': [100, 200, 300, 500],\n",
    "    'model__max_depth': [None, 5, 7, 10],\n",
    "    'model__min_samples_split': [2, 5, 10],\n",
    "    'model__min_samples_leaf': [1, 2, 4],\n",
    "    'model__max_features': ['sqrt', 0.8]  # optional\n",
    "}\n"
   ]
  },
  {
   "cell_type": "code",
   "execution_count": null,
   "id": "ff000fd3",
   "metadata": {},
   "outputs": [],
   "source": [
    "# GridSearchCV\n",
    "grid_search = GridSearchCV(\n",
    "    estimator=pipeline,\n",
    "    param_grid=param_grid,\n",
    "    cv=2,\n",
    "    n_jobs=-1,\n",
    "    scoring='r2'\n",
    ")\n"
   ]
  },
  {
   "cell_type": "code",
   "execution_count": null,
   "id": "0fb2c172",
   "metadata": {},
   "outputs": [],
   "source": [
    "# Fit on training data\n",
    "grid_search.fit(X_train, y_train)\n"
   ]
  },
  {
   "cell_type": "code",
   "execution_count": null,
   "id": "71f31d09",
   "metadata": {},
   "outputs": [
    {
     "name": "stdout",
     "output_type": "stream",
     "text": [
      "Best R² (CV): 0.6157170949598587\n",
      "Best Parameters: {'model__max_depth': None, 'model__max_features': 'sqrt', 'model__min_samples_leaf': 1, 'model__min_samples_split': 5, 'model__n_estimators': 300}\n",
      "Test R²: 0.6594676950332825\n"
     ]
    }
   ],
   "source": [
    "# Best model and parameters\n",
    "best_rf = grid_search.best_estimator_\n",
    "print(\"Best R² (CV):\", grid_search.best_score_)\n",
    "print(\"Best Parameters:\", grid_search.best_params_)\n",
    "\n",
    "# Evaluate on test set\n",
    "y_pred = best_rf.predict(X_test)\n",
    "print(\"Test R²:\", r2_score(y_test, y_pred))\n"
   ]
  },
  {
   "cell_type": "code",
   "execution_count": null,
   "id": "63c380c8",
   "metadata": {},
   "outputs": [
    {
     "name": "stdout",
     "output_type": "stream",
     "text": [
      "✅ Model saved successfully!\n"
     ]
    }
   ],
   "source": [
    "import joblib\n",
    "\n",
    "# Save the trained pipeline\n",
    "joblib.dump(pipeline, 'car_price_model.pkl')\n",
    "print(\"✅ Model saved successfully!\")\n"
   ]
  }
 ],
 "metadata": {
  "kernelspec": {
   "display_name": "ml_basics",
   "language": "python",
   "name": "python3"
  },
  "language_info": {
   "codemirror_mode": {
    "name": "ipython",
    "version": 3
   },
   "file_extension": ".py",
   "mimetype": "text/x-python",
   "name": "python",
   "nbconvert_exporter": "python",
   "pygments_lexer": "ipython3",
   "version": "3.12.11"
  }
 },
 "nbformat": 4,
 "nbformat_minor": 5
}
