{
 "cells": [
  {
   "cell_type": "markdown",
   "id": "4cce3681",
   "metadata": {},
   "source": [
    "# Importing Neccessary Libraries"
   ]
  },
  {
   "cell_type": "code",
   "execution_count": 1,
   "id": "309698b5",
   "metadata": {},
   "outputs": [],
   "source": [
    "import pandas as pd \n",
    "import matplotlib.pyplot as plt\n",
    "import seaborn as sns\n",
    "import numpy as np\n",
    "import matplotlib.pyplot as plt\n",
    "from sklearn.preprocessing import StandardScaler, OneHotEncoder\n",
    "from sklearn.compose import ColumnTransformer\n",
    "from sklearn.pipeline import Pipeline\n",
    "from sklearn.model_selection import train_test_split\n",
    "from sklearn.linear_model import LinearRegression\n",
    "from sklearn.metrics import  r2_score"
   ]
  },
  {
   "cell_type": "markdown",
   "id": "d275d552",
   "metadata": {},
   "source": [
    "### Loading the dataset"
   ]
  },
  {
   "cell_type": "code",
   "execution_count": 2,
   "id": "df51e625",
   "metadata": {},
   "outputs": [
    {
     "data": {
      "text/html": [
       "<div>\n",
       "<style scoped>\n",
       "    .dataframe tbody tr th:only-of-type {\n",
       "        vertical-align: middle;\n",
       "    }\n",
       "\n",
       "    .dataframe tbody tr th {\n",
       "        vertical-align: top;\n",
       "    }\n",
       "\n",
       "    .dataframe thead th {\n",
       "        text-align: right;\n",
       "    }\n",
       "</style>\n",
       "<table border=\"1\" class=\"dataframe\">\n",
       "  <thead>\n",
       "    <tr style=\"text-align: right;\">\n",
       "      <th></th>\n",
       "      <th>date</th>\n",
       "      <th>price</th>\n",
       "      <th>bedrooms</th>\n",
       "      <th>bathrooms</th>\n",
       "      <th>sqft_living</th>\n",
       "      <th>sqft_lot</th>\n",
       "      <th>floors</th>\n",
       "      <th>waterfront</th>\n",
       "      <th>view</th>\n",
       "      <th>condition</th>\n",
       "      <th>sqft_above</th>\n",
       "      <th>sqft_basement</th>\n",
       "      <th>yr_built</th>\n",
       "      <th>yr_renovated</th>\n",
       "      <th>street</th>\n",
       "      <th>city</th>\n",
       "      <th>statezip</th>\n",
       "      <th>country</th>\n",
       "    </tr>\n",
       "  </thead>\n",
       "  <tbody>\n",
       "    <tr>\n",
       "      <th>0</th>\n",
       "      <td>2014-05-02 00:00:00</td>\n",
       "      <td>313000.0</td>\n",
       "      <td>3.0</td>\n",
       "      <td>1.5</td>\n",
       "      <td>1340</td>\n",
       "      <td>7912</td>\n",
       "      <td>1.5</td>\n",
       "      <td>0</td>\n",
       "      <td>0</td>\n",
       "      <td>3</td>\n",
       "      <td>1340</td>\n",
       "      <td>0</td>\n",
       "      <td>1955</td>\n",
       "      <td>2005</td>\n",
       "      <td>18810 Densmore Ave N</td>\n",
       "      <td>Shoreline</td>\n",
       "      <td>WA 98133</td>\n",
       "      <td>USA</td>\n",
       "    </tr>\n",
       "    <tr>\n",
       "      <th>1</th>\n",
       "      <td>2014-05-02 00:00:00</td>\n",
       "      <td>2384000.0</td>\n",
       "      <td>5.0</td>\n",
       "      <td>2.5</td>\n",
       "      <td>3650</td>\n",
       "      <td>9050</td>\n",
       "      <td>2.0</td>\n",
       "      <td>0</td>\n",
       "      <td>4</td>\n",
       "      <td>5</td>\n",
       "      <td>3370</td>\n",
       "      <td>280</td>\n",
       "      <td>1921</td>\n",
       "      <td>0</td>\n",
       "      <td>709 W Blaine St</td>\n",
       "      <td>Seattle</td>\n",
       "      <td>WA 98119</td>\n",
       "      <td>USA</td>\n",
       "    </tr>\n",
       "  </tbody>\n",
       "</table>\n",
       "</div>"
      ],
      "text/plain": [
       "                  date      price  bedrooms  bathrooms  sqft_living  sqft_lot  \\\n",
       "0  2014-05-02 00:00:00   313000.0       3.0        1.5         1340      7912   \n",
       "1  2014-05-02 00:00:00  2384000.0       5.0        2.5         3650      9050   \n",
       "\n",
       "   floors  waterfront  view  condition  sqft_above  sqft_basement  yr_built  \\\n",
       "0     1.5           0     0          3        1340              0      1955   \n",
       "1     2.0           0     4          5        3370            280      1921   \n",
       "\n",
       "   yr_renovated                street       city  statezip country  \n",
       "0          2005  18810 Densmore Ave N  Shoreline  WA 98133     USA  \n",
       "1             0       709 W Blaine St    Seattle  WA 98119     USA  "
      ]
     },
     "execution_count": 2,
     "metadata": {},
     "output_type": "execute_result"
    }
   ],
   "source": [
    "data = pd.read_csv(\"data.csv\")\n",
    "data.head(2)"
   ]
  },
  {
   "cell_type": "markdown",
   "id": "62446fa9",
   "metadata": {},
   "source": [
    "### Shape of Data Before Preprocessing"
   ]
  },
  {
   "cell_type": "code",
   "execution_count": 3,
   "id": "baec5970",
   "metadata": {},
   "outputs": [
    {
     "data": {
      "text/plain": [
       "(4600, 18)"
      ]
     },
     "execution_count": 3,
     "metadata": {},
     "output_type": "execute_result"
    }
   ],
   "source": [
    "data.shape"
   ]
  },
  {
   "cell_type": "markdown",
   "id": "dbc357f4",
   "metadata": {},
   "source": [
    "### Checking for Null Values"
   ]
  },
  {
   "cell_type": "code",
   "execution_count": 4,
   "id": "77643d7e",
   "metadata": {},
   "outputs": [
    {
     "data": {
      "text/plain": [
       "date             0\n",
       "price            0\n",
       "bedrooms         0\n",
       "bathrooms        0\n",
       "sqft_living      0\n",
       "sqft_lot         0\n",
       "floors           0\n",
       "waterfront       0\n",
       "view             0\n",
       "condition        0\n",
       "sqft_above       0\n",
       "sqft_basement    0\n",
       "yr_built         0\n",
       "yr_renovated     0\n",
       "street           0\n",
       "city             0\n",
       "statezip         0\n",
       "country          0\n",
       "dtype: int64"
      ]
     },
     "execution_count": 4,
     "metadata": {},
     "output_type": "execute_result"
    }
   ],
   "source": [
    "data.isnull().sum()"
   ]
  },
  {
   "cell_type": "markdown",
   "id": "2d2669dd",
   "metadata": {},
   "source": [
    "### Droping columns that seems unimportant for predicting price of a house"
   ]
  },
  {
   "cell_type": "code",
   "execution_count": 5,
   "id": "f4d0da0d",
   "metadata": {},
   "outputs": [
    {
     "data": {
      "text/html": [
       "<div>\n",
       "<style scoped>\n",
       "    .dataframe tbody tr th:only-of-type {\n",
       "        vertical-align: middle;\n",
       "    }\n",
       "\n",
       "    .dataframe tbody tr th {\n",
       "        vertical-align: top;\n",
       "    }\n",
       "\n",
       "    .dataframe thead th {\n",
       "        text-align: right;\n",
       "    }\n",
       "</style>\n",
       "<table border=\"1\" class=\"dataframe\">\n",
       "  <thead>\n",
       "    <tr style=\"text-align: right;\">\n",
       "      <th></th>\n",
       "      <th>price</th>\n",
       "      <th>bedrooms</th>\n",
       "      <th>bathrooms</th>\n",
       "      <th>sqft_living</th>\n",
       "      <th>floors</th>\n",
       "      <th>condition</th>\n",
       "      <th>yr_built</th>\n",
       "      <th>city</th>\n",
       "      <th>statezip</th>\n",
       "    </tr>\n",
       "  </thead>\n",
       "  <tbody>\n",
       "    <tr>\n",
       "      <th>0</th>\n",
       "      <td>313000.0</td>\n",
       "      <td>3.0</td>\n",
       "      <td>1.50</td>\n",
       "      <td>1340</td>\n",
       "      <td>1.5</td>\n",
       "      <td>3</td>\n",
       "      <td>1955</td>\n",
       "      <td>Shoreline</td>\n",
       "      <td>WA 98133</td>\n",
       "    </tr>\n",
       "    <tr>\n",
       "      <th>1</th>\n",
       "      <td>2384000.0</td>\n",
       "      <td>5.0</td>\n",
       "      <td>2.50</td>\n",
       "      <td>3650</td>\n",
       "      <td>2.0</td>\n",
       "      <td>5</td>\n",
       "      <td>1921</td>\n",
       "      <td>Seattle</td>\n",
       "      <td>WA 98119</td>\n",
       "    </tr>\n",
       "    <tr>\n",
       "      <th>2</th>\n",
       "      <td>342000.0</td>\n",
       "      <td>3.0</td>\n",
       "      <td>2.00</td>\n",
       "      <td>1930</td>\n",
       "      <td>1.0</td>\n",
       "      <td>4</td>\n",
       "      <td>1966</td>\n",
       "      <td>Kent</td>\n",
       "      <td>WA 98042</td>\n",
       "    </tr>\n",
       "    <tr>\n",
       "      <th>3</th>\n",
       "      <td>420000.0</td>\n",
       "      <td>3.0</td>\n",
       "      <td>2.25</td>\n",
       "      <td>2000</td>\n",
       "      <td>1.0</td>\n",
       "      <td>4</td>\n",
       "      <td>1963</td>\n",
       "      <td>Bellevue</td>\n",
       "      <td>WA 98008</td>\n",
       "    </tr>\n",
       "    <tr>\n",
       "      <th>4</th>\n",
       "      <td>550000.0</td>\n",
       "      <td>4.0</td>\n",
       "      <td>2.50</td>\n",
       "      <td>1940</td>\n",
       "      <td>1.0</td>\n",
       "      <td>4</td>\n",
       "      <td>1976</td>\n",
       "      <td>Redmond</td>\n",
       "      <td>WA 98052</td>\n",
       "    </tr>\n",
       "  </tbody>\n",
       "</table>\n",
       "</div>"
      ],
      "text/plain": [
       "       price  bedrooms  bathrooms  sqft_living  floors  condition  yr_built  \\\n",
       "0   313000.0       3.0       1.50         1340     1.5          3      1955   \n",
       "1  2384000.0       5.0       2.50         3650     2.0          5      1921   \n",
       "2   342000.0       3.0       2.00         1930     1.0          4      1966   \n",
       "3   420000.0       3.0       2.25         2000     1.0          4      1963   \n",
       "4   550000.0       4.0       2.50         1940     1.0          4      1976   \n",
       "\n",
       "        city  statezip  \n",
       "0  Shoreline  WA 98133  \n",
       "1    Seattle  WA 98119  \n",
       "2       Kent  WA 98042  \n",
       "3   Bellevue  WA 98008  \n",
       "4    Redmond  WA 98052  "
      ]
     },
     "execution_count": 5,
     "metadata": {},
     "output_type": "execute_result"
    }
   ],
   "source": [
    "df = data.drop(['date', 'waterfront', 'view', 'sqft_basement', 'yr_renovated','sqft_lot', 'sqft_above', 'street', 'country'], axis=1)\n",
    "df.head()"
   ]
  },
  {
   "cell_type": "markdown",
   "id": "5a6cc052",
   "metadata": {},
   "source": [
    "### Shape of Data After Removing Un-neccessary columns"
   ]
  },
  {
   "cell_type": "code",
   "execution_count": 6,
   "id": "cfa5d3ea",
   "metadata": {},
   "outputs": [
    {
     "data": {
      "text/plain": [
       "(4600, 9)"
      ]
     },
     "execution_count": 6,
     "metadata": {},
     "output_type": "execute_result"
    }
   ],
   "source": [
    "df.shape"
   ]
  },
  {
   "cell_type": "markdown",
   "id": "4a71c589",
   "metadata": {},
   "source": [
    "## Pre_Processing Starts Here"
   ]
  },
  {
   "cell_type": "code",
   "execution_count": 7,
   "id": "73860b88",
   "metadata": {},
   "outputs": [],
   "source": [
    "#Removing all the rows where price is eaquals to '0'\n",
    "df = df[df['price'] != 0]"
   ]
  },
  {
   "cell_type": "markdown",
   "id": "90eb0df0",
   "metadata": {},
   "source": [
    "- Checking and Removing Outliers from **'Price'** Column"
   ]
  },
  {
   "cell_type": "code",
   "execution_count": 8,
   "id": "f105d529",
   "metadata": {},
   "outputs": [
    {
     "name": "stdout",
     "output_type": "stream",
     "text": [
      "Number of outliers in 'price': 240\n",
      "After removing outliers: (4311, 9)\n"
     ]
    }
   ],
   "source": [
    "\n",
    "# Calculate IQR for price\n",
    "Q1 = df['price'].quantile(0.25)\n",
    "Q3 = df['price'].quantile(0.75)\n",
    "IQR = Q3 - Q1\n",
    "\n",
    "# Define bounds\n",
    "lower_bound = Q1 - 1.5 * IQR\n",
    "upper_bound = Q3 + 1.5 * IQR\n",
    "\n",
    "# Count number of outliers\n",
    "outliers = df[(df['price'] < lower_bound) | (df['price'] > upper_bound)]\n",
    "print(f\"Number of outliers in 'price': {len(outliers)}\")\n",
    "\n",
    "# Remove outliers\n",
    "df = df[(df['price'] >= lower_bound) & (df['price'] <= upper_bound)]\n",
    "\n",
    "# Check new shape\n",
    "print(\"After removing outliers:\", df.shape)"
   ]
  },
  {
   "cell_type": "markdown",
   "id": "75cbc493",
   "metadata": {},
   "source": [
    "- Converting Less numbers of bedrooms like` 8.0 and 9.0 which contains only 1` value into Bigger value"
   ]
  },
  {
   "cell_type": "code",
   "execution_count": 9,
   "id": "c5dd992c",
   "metadata": {},
   "outputs": [
    {
     "name": "stdout",
     "output_type": "stream",
     "text": [
      "bedrooms\n",
      "3.0    1981\n",
      "4.0    1394\n",
      "2.0     557\n",
      "5.0     282\n",
      "6.0      47\n",
      "1.0      37\n",
      "7.0      12\n",
      "Name: count, dtype: int64\n"
     ]
    }
   ],
   "source": [
    "df = df[df['bedrooms'] != 0]\n",
    "df['bedrooms'] = df['bedrooms'].apply(lambda x: 7 if x > 7 else x)\n",
    "print(df['bedrooms'].value_counts())"
   ]
  },
  {
   "cell_type": "markdown",
   "id": "cb94e30d",
   "metadata": {},
   "source": [
    "- Similarily did with `bathrooms` column"
   ]
  },
  {
   "cell_type": "code",
   "execution_count": 10,
   "id": "5cc6aec6",
   "metadata": {},
   "outputs": [
    {
     "data": {
      "text/plain": [
       "bathrooms\n",
       "2.50    1144\n",
       "1.00     735\n",
       "1.75     619\n",
       "2.00     420\n",
       "2.25     397\n",
       "1.50     284\n",
       "2.75     256\n",
       "3.00     145\n",
       "3.50     118\n",
       "3.25     102\n",
       "3.75      25\n",
       "0.75      17\n",
       "4.00      15\n",
       "4.50      12\n",
       "6.00      11\n",
       "4.25      10\n",
       "Name: count, dtype: int64"
      ]
     },
     "execution_count": 10,
     "metadata": {},
     "output_type": "execute_result"
    }
   ],
   "source": [
    "bathroom_counts = df['bathrooms'].value_counts()\n",
    "rare_bathrooms = bathroom_counts[bathroom_counts <= 5].index\n",
    "df['bathrooms'] = df['bathrooms'].apply(lambda x: 6 if x in rare_bathrooms else x)\n",
    "df['bathrooms'].value_counts()"
   ]
  },
  {
   "cell_type": "markdown",
   "id": "1fb78c71",
   "metadata": {},
   "source": [
    "- Checking and Removing outliers from **sqft_living** living column"
   ]
  },
  {
   "cell_type": "code",
   "execution_count": 11,
   "id": "8eed8e87",
   "metadata": {},
   "outputs": [
    {
     "name": "stdout",
     "output_type": "stream",
     "text": [
      "Number of outliers in sqft_living: 73\n",
      "     sqft_living\n",
      "107         4340\n",
      "143         4420\n",
      "148         4490\n",
      "233         4460\n",
      "388         4230\n",
      "After removing outliers: (4237, 9)\n"
     ]
    }
   ],
   "source": [
    "Q1 = df['sqft_living'].quantile(0.25)\n",
    "Q3 = df['sqft_living'].quantile(0.75)\n",
    "IQR = Q3 - Q1\n",
    "lower_bound = Q1 - 1.5 * IQR\n",
    "upper_bound = Q3 + 1.5 * IQR\n",
    "\n",
    "outliers = df[(df['sqft_living'] < lower_bound) | (df['sqft_living'] > upper_bound)]\n",
    "print(f\"Number of outliers in sqft_living: {len(outliers)}\")\n",
    "print(outliers[['sqft_living']].head())\n",
    "\n",
    "#Removing \n",
    "df = df[(df['sqft_living'] >= lower_bound) & (df['sqft_living'] <= upper_bound)]\n",
    "\n",
    "#New shape after Remving outliers\n",
    "print(\"After removing outliers:\", df.shape)"
   ]
  },
  {
   "cell_type": "markdown",
   "id": "07ab41be",
   "metadata": {},
   "source": [
    "- 3.5 had only one value in **floors** column so i removed it."
   ]
  },
  {
   "cell_type": "code",
   "execution_count": 12,
   "id": "c031a675",
   "metadata": {},
   "outputs": [
    {
     "data": {
      "text/plain": [
       "floors\n",
       "1.0    2097\n",
       "2.0    1583\n",
       "1.5     413\n",
       "3.0     119\n",
       "2.5      24\n",
       "Name: count, dtype: int64"
      ]
     },
     "execution_count": 12,
     "metadata": {},
     "output_type": "execute_result"
    }
   ],
   "source": [
    "df = df[df['floors'] != 3.5]\n",
    "df['floors'].value_counts()"
   ]
  },
  {
   "cell_type": "code",
   "execution_count": 13,
   "id": "36c67014",
   "metadata": {},
   "outputs": [
    {
     "data": {
      "text/plain": [
       "condition\n",
       "3    2648\n",
       "4    1170\n",
       "5     382\n",
       "2      30\n",
       "1       6\n",
       "Name: count, dtype: int64"
      ]
     },
     "execution_count": 13,
     "metadata": {},
     "output_type": "execute_result"
    }
   ],
   "source": [
    "df['condition'].value_counts()"
   ]
  },
  {
   "cell_type": "markdown",
   "id": "61301c66",
   "metadata": {},
   "source": [
    "- As i did earlier in `bathrooms` and `bedrooms` columns, in **condition** column, Values with less converted into higher numbers."
   ]
  },
  {
   "cell_type": "code",
   "execution_count": 14,
   "id": "6f894d87",
   "metadata": {},
   "outputs": [
    {
     "data": {
      "text/plain": [
       "condition\n",
       "3    2648\n",
       "4    1170\n",
       "5     418\n",
       "Name: count, dtype: int64"
      ]
     },
     "execution_count": 14,
     "metadata": {},
     "output_type": "execute_result"
    }
   ],
   "source": [
    "count_condition = df['condition'].value_counts()\n",
    "rare_condition = count_condition[count_condition <= 30].index\n",
    "df['condition'] = df['condition'].apply(lambda x: 5 if x in rare_condition else x)\n",
    "df['condition'].value_counts()"
   ]
  },
  {
   "cell_type": "markdown",
   "id": "25a5ecf2",
   "metadata": {},
   "source": [
    "- Made a new column **House_Age** to see how many years old it is."
   ]
  },
  {
   "cell_type": "code",
   "execution_count": 15,
   "id": "ca2e18c4",
   "metadata": {},
   "outputs": [],
   "source": [
    "df['House_Age'] = 2025 - df['yr_built']"
   ]
  },
  {
   "cell_type": "markdown",
   "id": "efac79ed",
   "metadata": {},
   "source": [
    "- Cities having `less than 10 converted` into **other**"
   ]
  },
  {
   "cell_type": "code",
   "execution_count": 16,
   "id": "a31b9b4c",
   "metadata": {},
   "outputs": [],
   "source": [
    "city_counts = df['city'].value_counts()\n",
    "cities_less_than_ten = city_counts[city_counts <= 10].index\n",
    "df['city'] = df['city'].apply(lambda x: 'other' if x in cities_less_than_ten else x)\n",
    "\n"
   ]
  },
  {
   "cell_type": "markdown",
   "id": "50a39e46",
   "metadata": {},
   "source": [
    "- Removed State of **zip_code** because everyone was same and Converted dtype of **zip_code** into `int64` from object"
   ]
  },
  {
   "cell_type": "code",
   "execution_count": 17,
   "id": "9c3a68ae",
   "metadata": {},
   "outputs": [
    {
     "data": {
      "text/plain": [
       "0    98133\n",
       "2    98042\n",
       "3    98008\n",
       "4    98052\n",
       "5    98115\n",
       "Name: city_code, dtype: int64"
      ]
     },
     "execution_count": 17,
     "metadata": {},
     "output_type": "execute_result"
    }
   ],
   "source": [
    "df['city_code'] = df['statezip'].apply(lambda x:x.split(' ')[1])\n",
    "df['city_code'] = df['city_code'].apply(lambda x : int(x))\n",
    "df['city_code'].head()"
   ]
  },
  {
   "cell_type": "markdown",
   "id": "4b1f9546",
   "metadata": {},
   "source": [
    "- Droping two columns because `they've been converted` into **same others and more meaningful**"
   ]
  },
  {
   "cell_type": "code",
   "execution_count": 18,
   "id": "3f74c286",
   "metadata": {},
   "outputs": [],
   "source": [
    "df1 = df.drop(columns=['yr_built', 'statezip'])\n"
   ]
  },
  {
   "cell_type": "markdown",
   "id": "6bdde944",
   "metadata": {},
   "source": [
    "## Final Data ready for ML"
   ]
  },
  {
   "cell_type": "code",
   "execution_count": 19,
   "id": "e21e9a42",
   "metadata": {},
   "outputs": [
    {
     "data": {
      "text/html": [
       "<div>\n",
       "<style scoped>\n",
       "    .dataframe tbody tr th:only-of-type {\n",
       "        vertical-align: middle;\n",
       "    }\n",
       "\n",
       "    .dataframe tbody tr th {\n",
       "        vertical-align: top;\n",
       "    }\n",
       "\n",
       "    .dataframe thead th {\n",
       "        text-align: right;\n",
       "    }\n",
       "</style>\n",
       "<table border=\"1\" class=\"dataframe\">\n",
       "  <thead>\n",
       "    <tr style=\"text-align: right;\">\n",
       "      <th></th>\n",
       "      <th>price</th>\n",
       "      <th>bedrooms</th>\n",
       "      <th>bathrooms</th>\n",
       "      <th>sqft_living</th>\n",
       "      <th>floors</th>\n",
       "      <th>condition</th>\n",
       "      <th>city</th>\n",
       "      <th>House_Age</th>\n",
       "      <th>city_code</th>\n",
       "    </tr>\n",
       "  </thead>\n",
       "  <tbody>\n",
       "    <tr>\n",
       "      <th>0</th>\n",
       "      <td>313000.0</td>\n",
       "      <td>3.0</td>\n",
       "      <td>1.50</td>\n",
       "      <td>1340</td>\n",
       "      <td>1.5</td>\n",
       "      <td>3</td>\n",
       "      <td>Shoreline</td>\n",
       "      <td>70</td>\n",
       "      <td>98133</td>\n",
       "    </tr>\n",
       "    <tr>\n",
       "      <th>2</th>\n",
       "      <td>342000.0</td>\n",
       "      <td>3.0</td>\n",
       "      <td>2.00</td>\n",
       "      <td>1930</td>\n",
       "      <td>1.0</td>\n",
       "      <td>4</td>\n",
       "      <td>Kent</td>\n",
       "      <td>59</td>\n",
       "      <td>98042</td>\n",
       "    </tr>\n",
       "    <tr>\n",
       "      <th>3</th>\n",
       "      <td>420000.0</td>\n",
       "      <td>3.0</td>\n",
       "      <td>2.25</td>\n",
       "      <td>2000</td>\n",
       "      <td>1.0</td>\n",
       "      <td>4</td>\n",
       "      <td>Bellevue</td>\n",
       "      <td>62</td>\n",
       "      <td>98008</td>\n",
       "    </tr>\n",
       "    <tr>\n",
       "      <th>4</th>\n",
       "      <td>550000.0</td>\n",
       "      <td>4.0</td>\n",
       "      <td>2.50</td>\n",
       "      <td>1940</td>\n",
       "      <td>1.0</td>\n",
       "      <td>4</td>\n",
       "      <td>Redmond</td>\n",
       "      <td>49</td>\n",
       "      <td>98052</td>\n",
       "    </tr>\n",
       "    <tr>\n",
       "      <th>5</th>\n",
       "      <td>490000.0</td>\n",
       "      <td>2.0</td>\n",
       "      <td>1.00</td>\n",
       "      <td>880</td>\n",
       "      <td>1.0</td>\n",
       "      <td>3</td>\n",
       "      <td>Seattle</td>\n",
       "      <td>87</td>\n",
       "      <td>98115</td>\n",
       "    </tr>\n",
       "  </tbody>\n",
       "</table>\n",
       "</div>"
      ],
      "text/plain": [
       "      price  bedrooms  bathrooms  sqft_living  floors  condition       city  \\\n",
       "0  313000.0       3.0       1.50         1340     1.5          3  Shoreline   \n",
       "2  342000.0       3.0       2.00         1930     1.0          4       Kent   \n",
       "3  420000.0       3.0       2.25         2000     1.0          4   Bellevue   \n",
       "4  550000.0       4.0       2.50         1940     1.0          4    Redmond   \n",
       "5  490000.0       2.0       1.00          880     1.0          3    Seattle   \n",
       "\n",
       "   House_Age  city_code  \n",
       "0         70      98133  \n",
       "2         59      98042  \n",
       "3         62      98008  \n",
       "4         49      98052  \n",
       "5         87      98115  "
      ]
     },
     "execution_count": 19,
     "metadata": {},
     "output_type": "execute_result"
    }
   ],
   "source": [
    "df1.head()"
   ]
  },
  {
   "cell_type": "markdown",
   "id": "10b2f5c2",
   "metadata": {},
   "source": [
    "- Shape of Data After Preprocessing"
   ]
  },
  {
   "cell_type": "code",
   "execution_count": 20,
   "id": "830a72e5",
   "metadata": {},
   "outputs": [
    {
     "data": {
      "text/plain": [
       "(4236, 9)"
      ]
     },
     "execution_count": 20,
     "metadata": {},
     "output_type": "execute_result"
    }
   ],
   "source": [
    "df1.shape"
   ]
  },
  {
   "cell_type": "markdown",
   "id": "d93b15b7",
   "metadata": {},
   "source": [
    "- Checking for null values"
   ]
  },
  {
   "cell_type": "code",
   "execution_count": 21,
   "id": "ab342619",
   "metadata": {},
   "outputs": [
    {
     "data": {
      "text/plain": [
       "price          0\n",
       "bedrooms       0\n",
       "bathrooms      0\n",
       "sqft_living    0\n",
       "floors         0\n",
       "condition      0\n",
       "city           0\n",
       "House_Age      0\n",
       "city_code      0\n",
       "dtype: int64"
      ]
     },
     "execution_count": 21,
     "metadata": {},
     "output_type": "execute_result"
    }
   ],
   "source": [
    "df1.isnull().sum()"
   ]
  },
  {
   "cell_type": "markdown",
   "id": "70423bf4",
   "metadata": {},
   "source": [
    "- Info of Data"
   ]
  },
  {
   "cell_type": "code",
   "execution_count": 22,
   "id": "06451c42",
   "metadata": {},
   "outputs": [
    {
     "name": "stdout",
     "output_type": "stream",
     "text": [
      "<class 'pandas.core.frame.DataFrame'>\n",
      "Index: 4236 entries, 0 to 4599\n",
      "Data columns (total 9 columns):\n",
      " #   Column       Non-Null Count  Dtype  \n",
      "---  ------       --------------  -----  \n",
      " 0   price        4236 non-null   float64\n",
      " 1   bedrooms     4236 non-null   float64\n",
      " 2   bathrooms    4236 non-null   float64\n",
      " 3   sqft_living  4236 non-null   int64  \n",
      " 4   floors       4236 non-null   float64\n",
      " 5   condition    4236 non-null   int64  \n",
      " 6   city         4236 non-null   object \n",
      " 7   House_Age    4236 non-null   int64  \n",
      " 8   city_code    4236 non-null   int64  \n",
      "dtypes: float64(4), int64(4), object(1)\n",
      "memory usage: 330.9+ KB\n"
     ]
    }
   ],
   "source": [
    "df1.info()"
   ]
  },
  {
   "cell_type": "markdown",
   "id": "e3252dd9",
   "metadata": {},
   "source": [
    "- Statistical Analysis"
   ]
  },
  {
   "cell_type": "code",
   "execution_count": 23,
   "id": "82c14368",
   "metadata": {},
   "outputs": [
    {
     "data": {
      "text/html": [
       "<div>\n",
       "<style scoped>\n",
       "    .dataframe tbody tr th:only-of-type {\n",
       "        vertical-align: middle;\n",
       "    }\n",
       "\n",
       "    .dataframe tbody tr th {\n",
       "        vertical-align: top;\n",
       "    }\n",
       "\n",
       "    .dataframe thead th {\n",
       "        text-align: right;\n",
       "    }\n",
       "</style>\n",
       "<table border=\"1\" class=\"dataframe\">\n",
       "  <thead>\n",
       "    <tr style=\"text-align: right;\">\n",
       "      <th></th>\n",
       "      <th>price</th>\n",
       "      <th>bedrooms</th>\n",
       "      <th>bathrooms</th>\n",
       "      <th>sqft_living</th>\n",
       "      <th>floors</th>\n",
       "      <th>condition</th>\n",
       "      <th>House_Age</th>\n",
       "      <th>city_code</th>\n",
       "    </tr>\n",
       "  </thead>\n",
       "  <tbody>\n",
       "    <tr>\n",
       "      <th>count</th>\n",
       "      <td>4.236000e+03</td>\n",
       "      <td>4236.000000</td>\n",
       "      <td>4236.000000</td>\n",
       "      <td>4236.000000</td>\n",
       "      <td>4236.000000</td>\n",
       "      <td>4236.000000</td>\n",
       "      <td>4236.000000</td>\n",
       "      <td>4236.000000</td>\n",
       "    </tr>\n",
       "    <tr>\n",
       "      <th>mean</th>\n",
       "      <td>4.811796e+05</td>\n",
       "      <td>3.334278</td>\n",
       "      <td>2.075956</td>\n",
       "      <td>1985.183192</td>\n",
       "      <td>1.487134</td>\n",
       "      <td>3.473560</td>\n",
       "      <td>54.466714</td>\n",
       "      <td>98080.228754</td>\n",
       "    </tr>\n",
       "    <tr>\n",
       "      <th>std</th>\n",
       "      <td>2.102579e+05</td>\n",
       "      <td>0.866627</td>\n",
       "      <td>0.704786</td>\n",
       "      <td>734.356035</td>\n",
       "      <td>0.534754</td>\n",
       "      <td>0.668403</td>\n",
       "      <td>29.543446</td>\n",
       "      <td>52.958899</td>\n",
       "    </tr>\n",
       "    <tr>\n",
       "      <th>min</th>\n",
       "      <td>7.800000e+03</td>\n",
       "      <td>1.000000</td>\n",
       "      <td>0.750000</td>\n",
       "      <td>370.000000</td>\n",
       "      <td>1.000000</td>\n",
       "      <td>3.000000</td>\n",
       "      <td>11.000000</td>\n",
       "      <td>98001.000000</td>\n",
       "    </tr>\n",
       "    <tr>\n",
       "      <th>25%</th>\n",
       "      <td>3.170000e+05</td>\n",
       "      <td>3.000000</td>\n",
       "      <td>1.750000</td>\n",
       "      <td>1420.000000</td>\n",
       "      <td>1.000000</td>\n",
       "      <td>3.000000</td>\n",
       "      <td>29.000000</td>\n",
       "      <td>98034.000000</td>\n",
       "    </tr>\n",
       "    <tr>\n",
       "      <th>50%</th>\n",
       "      <td>4.450000e+05</td>\n",
       "      <td>3.000000</td>\n",
       "      <td>2.250000</td>\n",
       "      <td>1900.000000</td>\n",
       "      <td>1.500000</td>\n",
       "      <td>3.000000</td>\n",
       "      <td>50.000000</td>\n",
       "      <td>98072.000000</td>\n",
       "    </tr>\n",
       "    <tr>\n",
       "      <th>75%</th>\n",
       "      <td>6.050000e+05</td>\n",
       "      <td>4.000000</td>\n",
       "      <td>2.500000</td>\n",
       "      <td>2470.000000</td>\n",
       "      <td>2.000000</td>\n",
       "      <td>4.000000</td>\n",
       "      <td>74.000000</td>\n",
       "      <td>98118.000000</td>\n",
       "    </tr>\n",
       "    <tr>\n",
       "      <th>max</th>\n",
       "      <td>1.150000e+06</td>\n",
       "      <td>7.000000</td>\n",
       "      <td>6.000000</td>\n",
       "      <td>4130.000000</td>\n",
       "      <td>3.000000</td>\n",
       "      <td>5.000000</td>\n",
       "      <td>125.000000</td>\n",
       "      <td>98354.000000</td>\n",
       "    </tr>\n",
       "  </tbody>\n",
       "</table>\n",
       "</div>"
      ],
      "text/plain": [
       "              price     bedrooms    bathrooms  sqft_living       floors  \\\n",
       "count  4.236000e+03  4236.000000  4236.000000  4236.000000  4236.000000   \n",
       "mean   4.811796e+05     3.334278     2.075956  1985.183192     1.487134   \n",
       "std    2.102579e+05     0.866627     0.704786   734.356035     0.534754   \n",
       "min    7.800000e+03     1.000000     0.750000   370.000000     1.000000   \n",
       "25%    3.170000e+05     3.000000     1.750000  1420.000000     1.000000   \n",
       "50%    4.450000e+05     3.000000     2.250000  1900.000000     1.500000   \n",
       "75%    6.050000e+05     4.000000     2.500000  2470.000000     2.000000   \n",
       "max    1.150000e+06     7.000000     6.000000  4130.000000     3.000000   \n",
       "\n",
       "         condition    House_Age     city_code  \n",
       "count  4236.000000  4236.000000   4236.000000  \n",
       "mean      3.473560    54.466714  98080.228754  \n",
       "std       0.668403    29.543446     52.958899  \n",
       "min       3.000000    11.000000  98001.000000  \n",
       "25%       3.000000    29.000000  98034.000000  \n",
       "50%       3.000000    50.000000  98072.000000  \n",
       "75%       4.000000    74.000000  98118.000000  \n",
       "max       5.000000   125.000000  98354.000000  "
      ]
     },
     "execution_count": 23,
     "metadata": {},
     "output_type": "execute_result"
    }
   ],
   "source": [
    "df1.describe()"
   ]
  },
  {
   "cell_type": "code",
   "execution_count": 24,
   "id": "624855af",
   "metadata": {},
   "outputs": [
    {
     "data": {
      "text/plain": [
       "min       7800.0\n",
       "max    1150000.0\n",
       "Name: price, dtype: float64"
      ]
     },
     "execution_count": 24,
     "metadata": {},
     "output_type": "execute_result"
    }
   ],
   "source": [
    "df1['price'].agg(['min','max'])"
   ]
  },
  {
   "cell_type": "code",
   "execution_count": 25,
   "id": "fc3a4a1d",
   "metadata": {},
   "outputs": [
    {
     "data": {
      "image/png": "[encoded data removed]",
      "text/plain": [
       "<Figure size 640x480 with 1 Axes>"
      ]
     },
     "metadata": {},
     "output_type": "display_data"
    }
   ],
   "source": [
    "\n",
    "sns.histplot(df['price'], kde=True)\n",
    "plt.title('Price Distribution')\n",
    "plt.show()\n"
   ]
  },
  {
   "cell_type": "markdown",
   "id": "5fc9dc81",
   "metadata": {},
   "source": [
    "## Machine_Learning Starts from here:"
   ]
  },
  {
   "cell_type": "markdown",
   "id": "797cedaf",
   "metadata": {},
   "source": [
    "- Spliting Features and Label "
   ]
  },
  {
   "cell_type": "code",
   "execution_count": 26,
   "id": "895f74e3",
   "metadata": {},
   "outputs": [],
   "source": [
    "X = df1.drop('price', axis=1)\n",
    "y = df1['price']"
   ]
  },
  {
   "cell_type": "markdown",
   "id": "891220fa",
   "metadata": {},
   "source": [
    "- Columns in X"
   ]
  },
  {
   "cell_type": "code",
   "execution_count": 27,
   "id": "7ae41c2e",
   "metadata": {},
   "outputs": [
    {
     "name": "stdout",
     "output_type": "stream",
     "text": [
      "   bedrooms  bathrooms  sqft_living  floors  condition       city  House_Age  city_code\n",
      "0       3.0       1.50         1340     1.5          3  Shoreline         70      98133\n",
      "2       3.0       2.00         1930     1.0          4       Kent         59      98042\n",
      "3       3.0       2.25         2000     1.0          4   Bellevue         62      98008\n",
      "4       4.0       2.50         1940     1.0          4    Redmond         49      98052\n",
      "5       2.0       1.00          880     1.0          3    Seattle         87      98115\n"
     ]
    }
   ],
   "source": [
    "pd.set_option('display.width', 1000)\n",
    "print(X.head())"
   ]
  },
  {
   "cell_type": "markdown",
   "id": "bb1f6a7d",
   "metadata": {},
   "source": [
    "- Split the data into **Train_Test**"
   ]
  },
  {
   "cell_type": "code",
   "execution_count": 28,
   "id": "21605626",
   "metadata": {},
   "outputs": [],
   "source": [
    "X_train, X_test, y_train, y_test = train_test_split(X, y, test_size=0.2, random_state=42)"
   ]
  },
  {
   "cell_type": "code",
   "execution_count": 29,
   "id": "f752f774",
   "metadata": {},
   "outputs": [
    {
     "name": "stdout",
     "output_type": "stream",
     "text": [
      "Numerical: ['bedrooms', 'bathrooms', 'sqft_living', 'floors', 'condition', 'House_Age', 'city_code']\n",
      "Categorical: ['city']\n"
     ]
    }
   ],
   "source": [
    "numerical_features = [col for col in X.columns if X[col].dtypes in ['int64', 'float64']]\n",
    "categorical_features = [col for col in X.columns if X[col].dtypes in ['object', 'category']]\n",
    "\n",
    "print(\"Numerical:\", numerical_features)\n",
    "print(\"Categorical:\", categorical_features)\n"
   ]
  },
  {
   "cell_type": "markdown",
   "id": "018525e4",
   "metadata": {},
   "source": [
    "- Pre_processing"
   ]
  },
  {
   "cell_type": "code",
   "execution_count": 30,
   "id": "1d0b7ba9",
   "metadata": {},
   "outputs": [],
   "source": [
    "preprocessing = ColumnTransformer([\n",
    "    ('num' , StandardScaler() , numerical_features),\n",
    "    ('cate' , OneHotEncoder() , categorical_features)\n",
    "])"
   ]
  },
  {
   "cell_type": "markdown",
   "id": "c45a28a4",
   "metadata": {},
   "source": [
    "- PipeLine"
   ]
  },
  {
   "cell_type": "code",
   "execution_count": 31,
   "id": "1348a8c2",
   "metadata": {},
   "outputs": [],
   "source": [
    "pipeline = Pipeline([\n",
    "    ('preprocessing', preprocessing),\n",
    "    ('model', LinearRegression())\n",
    "])"
   ]
  },
  {
   "cell_type": "code",
   "execution_count": 32,
   "id": "4f0cf193",
   "metadata": {},
   "outputs": [],
   "source": [
    "pipeline.fit(X_train,y_train)\n",
    "y_pred = pipeline.predict(X_test)"
   ]
  },
  {
   "cell_type": "code",
   "execution_count": 33,
   "id": "598f8ac8",
   "metadata": {},
   "outputs": [
    {
     "name": "stdout",
     "output_type": "stream",
     "text": [
      "r2_score 0.7000180824569485\n"
     ]
    }
   ],
   "source": [
    "print('r2_score', r2_score(y_test,y_pred))"
   ]
  },
  {
   "cell_type": "code",
   "execution_count": 34,
   "id": "a9829fa4",
   "metadata": {},
   "outputs": [
    {
     "name": "stdout",
     "output_type": "stream",
     "text": [
      "✅ Model saved successfully!\n"
     ]
    }
   ],
   "source": [
    "import joblib\n",
    "\n",
    "# Save the trained pipeline\n",
    "joblib.dump(pipeline, 'house_price_model.pkl')\n",
    "print(\"✅ Model saved successfully!\")\n"
   ]
  }
 ],
 "metadata": {
  "kernelspec": {
   "display_name": "ml_basics",
   "language": "python",
   "name": "python3"
  },
  "language_info": {
   "codemirror_mode": {
    "name": "ipython",
    "version": 3
   },
   "file_extension": ".py",
   "mimetype": "text/x-python",
   "name": "python",
   "nbconvert_exporter": "python",
   "pygments_lexer": "ipython3",
   "version": "3.12.11"
  }
 },
 "nbformat": 4,
 "nbformat_minor": 5
}
